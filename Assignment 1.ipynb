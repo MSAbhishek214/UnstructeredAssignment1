{
 "cells": [
  {
   "cell_type": "markdown",
   "metadata": {},
   "source": [
    "Problem 1"
   ]
  },
  {
   "cell_type": "code",
   "execution_count": 13,
   "metadata": {},
   "outputs": [
    {
     "name": "stdout",
     "output_type": "stream",
     "text": [
      "Samsung Galaxy S21 Ultra ( 256 GB Storage, 12 GB RAM ) Online at Best Price On Flipkart.com\n"
     ]
    }
   ],
   "source": [
    "# if bs4 not installed (uncomment the below line)\n",
    "# !pip install bs4\n",
    "# if pip already installed the bs4 package\n",
    "import urllib.request as urllib2\n",
    "from bs4 import BeautifulSoup\n",
    "\n",
    "response = urllib2.urlopen('https://www.flipkart.com/samsung-galaxy-s21-ultra-phantom-black-256-gb/p/itmbec2f700e2ff3?pid=MOBFZ3TMSMXZATX3&lid=LSTMOBFZ3TMSMXZATX354XEIV&otracker=clp_bannerads_1_4.bannerAdCard.BANNERADS_Samsung%2BS21_mobile-phones-store_B5DEJN3IR67C')\n",
    "html_doc = response.read()\n",
    "\n",
    "#Parsing\n",
    "soup = BeautifulSoup(html_doc, 'html.parser')\n",
    "# Formating the parsed html file\n",
    "strhtm = soup.prettify()\n",
    "\n",
    "# Print few lines\n",
    "# print (strhtm[:1000])\n",
    "\n",
    "# print(soup.title)\n",
    "# print(soup.title.string)\n",
    "# print(soup.a.string)\n",
    "# print(soup.b.string)\n",
    "\n",
    "# for x in soup.find_all('a'): print(x.string)\n",
    "    \n",
    "# for x in soup.find_all('p'): print(x.text)\n",
    "\n",
    "print(soup.title.string)"
   ]
  },
  {
   "cell_type": "code",
   "execution_count": null,
   "metadata": {},
   "outputs": [],
   "source": []
  }
 ],
 "metadata": {
  "kernelspec": {
   "display_name": "Python 3",
   "language": "python",
   "name": "python3"
  },
  "language_info": {
   "codemirror_mode": {
    "name": "ipython",
    "version": 3
   },
   "file_extension": ".py",
   "mimetype": "text/x-python",
   "name": "python",
   "nbconvert_exporter": "python",
   "pygments_lexer": "ipython3",
   "version": "3.8.3"
  }
 },
 "nbformat": 4,
 "nbformat_minor": 4
}
